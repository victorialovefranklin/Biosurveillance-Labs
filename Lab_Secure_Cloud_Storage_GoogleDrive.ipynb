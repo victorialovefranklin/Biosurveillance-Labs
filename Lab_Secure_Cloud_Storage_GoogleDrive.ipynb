{
  "cells": [
    {
      "cell_type": "markdown",
      "metadata": {
        "id": "view-in-github",
        "colab_type": "text"
      },
      "source": [
        "<a href=\"https://colab.research.google.com/github/victorialovefranklin/Biosurveillance-Labs/blob/main/Lab_Secure_Cloud_Storage_GoogleDrive.ipynb\" target=\"_parent\"><img src=\"https://colab.research.google.com/assets/colab-badge.svg\" alt=\"Open In Colab\"/></a>"
      ]
    },
    {
      "cell_type": "markdown",
      "id": "4142a8a1",
      "metadata": {
        "id": "4142a8a1"
      },
      "source": [
        "# 🔒 Lab: Secure Cloud Storage with Google Drive (Personal Google Drive)\n",
        "**Objective:** Learn to set up a secure folder in Google Drive, download official biosurveillance datasets for Tennessee, and store them with proper access controls.\n",
        "\n",
        "Last Updated: September 25, 2025  \n",
        "Author: *Victoria Love Franklin*"
      ]
    },
    {
      "cell_type": "markdown",
      "id": "82166a3a",
      "metadata": {
        "id": "82166a3a"
      },
      "source": [
        "## **Student Exercise**\n",
        "\n",
        "**Secure a Folder**: Create a private Drive folder and share only with  individuals or group partners.\n",
        "\n",
        "**Please note:** Since you’re working with a personal Google account (free Drive, not Workspace), you can still create a secure folder and restrict access, but some advanced features (like expiration dates and disabling download/print/copy) will not appear."
      ]
    },
    {
      "cell_type": "markdown",
      "id": "ed94a36d",
      "metadata": {
        "id": "ed94a36d"
      },
      "source": [
        "## **Study Context**\n",
        "- **Study Area:** Tennessee  \n",
        "- **Study Viral RNA for Biosurveillance:** COVID-19 (SARS-CoV-2)  \n",
        "- This lab uses Tennessee as the geographic focus, with datasets related to **SARS-CoV-2 viral RNA in wastewater trends,** **COVID-19 variants,** and **clinical case surveillance data**. By practicing with this real-world context, students will understand how to manage sensitive public health data securely in the cloud."
      ]
    },
    {
      "cell_type": "markdown",
      "id": "ad2176ec",
      "metadata": {
        "id": "ad2176ec"
      },
      "source": [
        "## **Learning Goals**\n",
        "- Apply the **Principle of Least Privilege** when sharing Google Drive folders.  \n",
        "- Download official **biosurveillance datasets** (CDC NWSS wastewater trends, WastewaterSCAN SARS-CoV-2 data, CDC COVID-NET clinical cases).  \n",
        "- Upload and store files securely in a restricted-access folder.  \n",
        "- Monitor file activity using **Google Drive’s Activity panel** (view, edit, share, delete logs)."
      ]
    },
    {
      "cell_type": "markdown",
      "id": "04c50658",
      "metadata": {
        "id": "04c50658"
      },
      "source": [
        "## S**tep 1: Create a Secure Google Drive Folder with Restricted Access**\n",
        "1. Open **Google Drive** in your browser.  \n",
        "2. Click **New Folder**.  \n",
        "3. Name the folder: **Secure_Biosurveillance_Data**  \n",
        "4. Right-click the folder → **Share**.  \n",
        "5. Under **General access**, select **Restricted**.  \n",
        "6. Add group partners by email with appropriate roles.  \n",
        "- **Viewer**: read-only  \n",
        "- **Editor**: full control  \n",
        "7. Click **Send** to confirm.\n",
        "\n",
        "**Teaching Point:** Even with a free Google Drive account, setting access to **Restricted** prevents public link sharing."
      ]
    },
    {
      "cell_type": "markdown",
      "id": "196cc266",
      "metadata": {
        "id": "196cc266"
      },
      "source": [
        "### 1.1 **View Activity (Audit Trail)**\n",
        "1. Right-click folder or file **File information tab and Activity**.  \n",
        "2. Review the panel for logs such as:\n",
        "- *Edited this file*  \n",
        "- *Shared with…*  \n",
        "- *Viewed by…*  \n",
        "- *Removed by…*  \n",
        "- *Moved to trash by…*  \n",
        "\n",
        "**Teaching Point:** The Activity panel acts as a lightweight audit trail."
      ]
    },
    {
      "cell_type": "markdown",
      "id": "3c15f10b",
      "metadata": {
        "id": "3c15f10b"
      },
      "source": [
        "## **Step 2: Download Biosurveillance Data (Tennessee)**\n",
        "You will download three datasets:\n",
        "1. **Wastewater Viral Trends (CDC NWSS)**  \n",
        "2. **SARS-CoV-2 Pathogen/Variant Data (WastewaterSCAN)**  \n",
        "3. **Clinical Case Data (COVID-NET CDC)**"
      ]
    },
    {
      "cell_type": "code",
      "execution_count": null,
      "id": "c7b2ce2a",
      "metadata": {
        "id": "c7b2ce2a"
      },
      "outputs": [],
      "source": [
        "# Placeholder: Students will manually download datasets from CDC and WastewaterSCAN websites.\n",
        "# After download, rename the files and place files in your lab folder.\n",
        "\n",
        "# Suggested filenames:\n",
        "# - CDC_NWSS_TN_Wastewater.csv\n",
        "# - WastewaterSCAN_TN_SARS2.csv\n",
        "# - CDC_COVIDNET_ClinicalCases_2024_2025.csv"
      ]
    },
    {
      "cell_type": "markdown",
      "id": "080ab74b",
      "metadata": {
        "id": "080ab74b"
      },
      "source": [
        "## **Step 3: Upload Data to Your Secure Google Drive Folder**\n",
        "1. In Google Drive, open **Secure_Biosurveillance_Data**.  \n",
        "2. Click **NewFile Upload**.  \n",
        "3. Select and upload the three CSV files.  \n",
        "4. Confirm files are visible in the restricted folder.\n",
        "\n",
        "**Teaching Point:** Controlled folders enforce **data security and traceability**."
      ]
    },
    {
      "cell_type": "markdown",
      "id": "991fd6e4",
      "metadata": {
        "id": "991fd6e4"
      },
      "source": [
        "## **Step 4: Monitor Activity & Audit Logs**\n",
        "### **4.1 View Activity**\n",
        "Check file history: Viewed, Edited, Deleted, Restored.\n",
        "\n",
        "### **4.2 Simulate a Security Event**\n",
        "- **Editor** deletes a file.  \n",
        "- **Owner** restores it from Trash.  \n",
        "- Review the Activity log to see both actions.\n",
        "\n",
        "**Teaching Point:** Logs provide accountability and help detect unauthorized actions."
      ]
    },
    {
      "cell_type": "markdown",
      "id": "8f5e9e6c",
      "metadata": {
        "id": "8f5e9e6c"
      },
      "source": [
        "---\n",
        "**End of Lab:** You now know how to create a secure folder, control access, upload biosurveillance data safely, and monitor activity in Google Drive."
      ]
    }
  ],
  "metadata": {
    "colab": {
      "provenance": [],
      "include_colab_link": true
    }
  },
  "nbformat": 4,
  "nbformat_minor": 5
}