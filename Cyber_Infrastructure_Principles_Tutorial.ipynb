{
  "cells": [
    {
      "cell_type": "markdown",
      "metadata": {
        "id": "view-in-github",
        "colab_type": "text"
      },
      "source": [
        "<a href=\"https://colab.research.google.com/github/victorialovefranklin/Biosurveillance-Labs/blob/main/Cyber_Infrastructure_Principles_Tutorial.ipynb\" target=\"_parent\"><img src=\"https://colab.research.google.com/assets/colab-badge.svg\" alt=\"Open In Colab\"/></a>"
      ]
    },
    {
      "cell_type": "markdown",
      "id": "db6cd242",
      "metadata": {
        "id": "db6cd242"
      },
      "source": [
        "# Best Practices: Cyber-Infrastructure Principles in Google Colab\n",
        "This notebook introduces students to **security, reproducibility, and responsible sharing** when working with Google Colab."
      ]
    },
    {
      "cell_type": "markdown",
      "id": "dbf86987",
      "metadata": {
        "id": "dbf86987"
      },
      "source": [
        "# Key Takeaways\n",
        "- **Security:** Protect code, data, and credentials.\n",
        "- **Access Control:** Share responsibly.\n",
        "- **Reproducibility:** Document everything.\n",
        "- **Sustainability:** Keep clean, versioned notebooks.\n"
      ]
    },
    {
      "cell_type": "markdown",
      "id": "65ca37ea",
      "metadata": {
        "id": "65ca37ea"
      },
      "source": [
        "## 1. Access Control (Least Privilege)\n",
        "- Share with **named users only** (never 'Anyone with the link').\n",
        "- Use restricted Google Drive folders for sensitive data.\n",
        "\n",
        "**Principle: Least Privilege** — only give access to those who need it."
      ]
    },
    {
      "cell_type": "markdown",
      "id": "93950308",
      "metadata": {
        "id": "93950308"
      },
      "source": [
        "## 2. Data Security\n",
        "- Never upload raw files with PII or sensitive health/financial data.\n",
        "- Anonymize or encrypt before sharing.\n",
        "- Do not push sensitive files to GitHub.\n",
        "\n",
        "**Principle: Protect Data at Rest & in Transit.**"
      ]
    },
    {
      "cell_type": "markdown",
      "id": "73ecffe0",
      "metadata": {
        "id": "73ecffe0"
      },
      "source": [
        "## 3. Code Integrity\n",
        "- Do not paste API keys or passwords.\n",
        "- Use environment variables or secret managers.\n",
        "\n",
        "**Principle: Separation of Code and Credentials.**"
      ]
    },
    {
      "cell_type": "markdown",
      "id": "a9270ff5",
      "metadata": {
        "id": "a9270ff5"
      },
      "source": [
        "## 4. Reproducibility\n",
        "- Add comments and text cells for clarity.\n",
        "- Use requirements cells for packages.\n",
        "\n",
        "**Principle: Science must be reproducible.**"
      ]
    },
    {
      "cell_type": "markdown",
      "id": "00c335f4",
      "metadata": {
        "id": "00c335f4"
      },
      "source": [
        "## 5. Transparency & Audit Trail\n",
        "- Use version history in Google Drive.\n",
        "- Keep logs of data access.\n",
        "\n",
        "**Principle: Accountability & Traceability.**"
      ]
    },
    {
      "cell_type": "markdown",
      "id": "b022691b",
      "metadata": {
        "id": "b022691b"
      },
      "source": [
        "## 6. Responsible Sharing\n",
        "- Share cleaned results, not raw sensitive data.\n",
        "- Use APIs or secure storage for sensitive logic.\n",
        "\n",
        "**Principle: Controlled Collaboration.**"
      ]
    },
    {
      "cell_type": "markdown",
      "id": "6b3ba92e",
      "metadata": {
        "id": "6b3ba92e"
      },
      "source": [
        "## 7. Sustainability\n",
        "- Clean notebooks before sharing.\n",
        "- Backup work as `.ipynb` and `.pdf`.\n",
        "\n",
        "**Principle: Long-Term Stewardship of Research.**"
      ]
    }
  ],
  "metadata": {
    "colab": {
      "provenance": [],
      "include_colab_link": true
    }
  },
  "nbformat": 4,
  "nbformat_minor": 5
}